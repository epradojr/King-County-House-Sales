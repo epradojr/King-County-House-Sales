{
 "cells": [
  {
   "cell_type": "markdown",
   "metadata": {},
   "source": [
    "### Imports"
   ]
  },
  {
   "cell_type": "code",
   "execution_count": 279,
   "metadata": {},
   "outputs": [],
   "source": [
    "import itertools\n",
    "import numpy as np\n",
    "import pandas as pd \n",
    "from numbers import Number\n",
    "from scipy import stats\n",
    "import matplotlib.pyplot as plt\n",
    "import seaborn as sns\n",
    "import statsmodels.api as sm\n",
    "import sklearn \n",
    "from sklearn import preprocessing\n",
    "from sklearn.linear_model import LinearRegression\n",
    "from sklearn.metrics import mean_squared_error\n",
    "from sklearn.preprocessing import PolynomialFeatures\n",
    "from sklearn.model_selection import train_test_split\n",
    "from sklearn.preprocessing import StandardScaler\n",
    "from sklearn.model_selection import cross_validate\n",
    "import statsmodels\n",
    "from statsmodels.formula.api import ols\n",
    "\n",
    "import sqlite3 \n",
    "import json\n",
    "import folium \n",
    "import folium.plugins as plugins\n",
    "import branca.colormap as cm\n",
    "\n",
    "%matplotlib inline\n",
    "\n",
    "import pickle\n",
    "\n",
    "\n"
   ]
  },
  {
   "cell_type": "markdown",
   "metadata": {},
   "source": [
    "### Functions"
   ]
  },
  {
   "cell_type": "code",
   "execution_count": 280,
   "metadata": {},
   "outputs": [],
   "source": [
    "def clean_df(df, \n",
    "            bedrooms_min=3, \n",
    "            bedrooms_max=4, \n",
    "            condition_min = 1, \n",
    "            condition_max = 4, \n",
    "            grade_min = 5, \n",
    "            grade_max = 11, \n",
    "            house_age_min = 0, \n",
    "            house_age_max = 300, \n",
    "            price_min = 0, \n",
    "            price_max = 7700000):\n",
    "    \"\"\"\n",
    "    Cleans the dataframe with specified conditions.\n",
    "\n",
    "    df - dataframe that will be altered\n",
    "    bedrooms_min - Minimum bedrooms, set to 3 as default\n",
    "    bedrooms_max - Maximum bedrooms, set to 4 as default\n",
    "    condition_min - Minimum condition of a home, set to 1 (Fair) by default\n",
    "    condition_max - Maximum condition of a home, set to 4 (Very Good) by default\n",
    "    grade_min - Minimum grade for a home, set to 5 (Fair) by default\n",
    "    grade_max - Maximum grade for a home, set to 11 (Excellent) by default\n",
    "    house_age_min - Minimum age for a home, set to 0 by default\n",
    "    house_age_max - Maximum age for a home, set to 300 by default \n",
    "    price_min - Minimum price for a home, set to 0 by default \n",
    "    price_max - Maximum price for a home, set to 7700000 by default\n",
    "    \n",
    "    \"\"\"\n",
    "\n",
    "    # Creating a copy of df and creating for future data shaping.\n",
    "    df_copy = df.copy()\n",
    "    drop_columns = ['waterfront', 'view', 'sqft_above', 'sqft_basement','sqft_lot','sqft_living15','sqft_lot15']\n",
    "    condition_dict = {'Poor':0, 'Fair':1, 'Average':2, 'Good':3, 'Very Good':4}\n",
    "\n",
    "    # Dropping unnecessary columns and removing a \n",
    "    df_copy.drop(drop_columns, axis= 1, inplace=True)\n",
    "    df_copy = df_copy[df_copy['bedrooms']!=33]\n",
    "    \n",
    "    df_copy['date'] = pd.to_datetime(df_copy[\"date\"])\n",
    "    \n",
    "    df_copy['grade_value'] = df_copy['grade'].map(lambda x: x[:2])\n",
    "    df_copy['grade_value'] = df_copy['grade_value'].astype(int)\n",
    "\n",
    "    df_copy['age'] = df_copy['yr_built']\n",
    "    df_copy.loc[df_copy['yr_renovated'] != 0, 'age'] = df_copy['yr_renovated']\n",
    "    df_copy['age'] = df_copy['age'].map(lambda x: 2015-x)\n",
    "\n",
    "    df_copy['condition_num'] = df_copy['condition'].map(condition_dict)\n",
    "\n",
    "    df_copy = df_copy[df_copy['bedrooms'] >= bedrooms_min]\n",
    "    df_copy = df_copy[df_copy['bedrooms'] <= bedrooms_max]\n",
    "\n",
    "    df_copy = df_copy[df_copy['condition_num'] >= condition_min]\n",
    "    df_copy = df_copy[df_copy['condition_num'] <= condition_max]\n",
    "\n",
    "    df_copy = df_copy[df_copy['grade_value'] >= grade_min]\n",
    "    df_copy = df_copy[df_copy['grade_value'] <= grade_max]\n",
    "\n",
    "    df_copy = df_copy[df_copy['age'] >= house_age_min]\n",
    "    df_copy = df_copy[df_copy['age'] <= house_age_max]\n",
    "\n",
    "    df_copy = df_copy[df_copy['price'] >= price_min]\n",
    "    df_copy = df_copy[df_copy['price'] <= price_max]\n",
    "\n",
    "    df_clean = df_copy.copy()\n",
    "\n",
    "    return(df_clean)\n",
    "\n",
    "def map_feature_by_zipcode(zipcode_data, col):\n",
    "    \"\"\"\n",
    "    Generates a folium map of Seattle\n",
    "    :param zipcode_data: zipcode dataset\n",
    "    :param col: feature to display\n",
    "    :return: m\n",
    "    \"\"\"\n",
    "\n",
    "    # read updated geo data\n",
    "    king_geo = \"cleaned_geodata.json\"\n",
    "\n",
    "    # Initialize Folium Map with Seattle latitude and longitude\n",
    "    m = folium.Map(location=[47.35, -121.9], zoom_start=9.25,\n",
    "                   detect_retina=True, control_scale=False, tiles='OpenStreetMap')\n",
    "\n",
    "    # Create choropleth map\n",
    "    m.choropleth(\n",
    "        geo_data=king_geo,\n",
    "        name='choropleth',\n",
    "        data=zipcode_data,\n",
    "        # col: feature of interest\n",
    "        columns=['zipcode', col],\n",
    "        key_on='feature.properties.ZIPCODE',\n",
    "        fill_color='YlGnBu',\n",
    "        fill_opacity=0.7,\n",
    "        line_opacity=0.2,\n",
    "        legend_name='house ' + col\n",
    "    )\n",
    "    folium.LayerControl().add_to(m)\n",
    "\n",
    "    # Save map based on feature of interest\n",
    "    m.save(col + '.html')\n",
    "\n",
    "    return m"
   ]
  },
  {
   "cell_type": "markdown",
   "metadata": {},
   "source": [
    "### Code"
   ]
  },
  {
   "cell_type": "code",
   "execution_count": 281,
   "metadata": {},
   "outputs": [],
   "source": [
    "df = pd.read_csv('./data/kc_house_data.csv')"
   ]
  },
  {
   "cell_type": "code",
   "execution_count": 282,
   "metadata": {},
   "outputs": [],
   "source": [
    "df = clean_df(df)"
   ]
  },
  {
   "cell_type": "code",
   "execution_count": 283,
   "metadata": {},
   "outputs": [],
   "source": [
    "variables = ['sqft_living','grade_value','condition_num','bedrooms','bathrooms', 'age', 'floors', ]\n",
    "price_var = ['price'] + variables\n"
   ]
  },
  {
   "cell_type": "code",
   "execution_count": 284,
   "metadata": {},
   "outputs": [
    {
     "name": "stdout",
     "output_type": "stream",
     "text": [
      "<class 'pandas.core.frame.DataFrame'>\n",
      "Int64Index: 13679 entries, 0 to 21595\n",
      "Data columns (total 17 columns):\n",
      " #   Column         Non-Null Count  Dtype         \n",
      "---  ------         --------------  -----         \n",
      " 0   id             13679 non-null  int64         \n",
      " 1   date           13679 non-null  datetime64[ns]\n",
      " 2   price          13679 non-null  float64       \n",
      " 3   bedrooms       13679 non-null  int64         \n",
      " 4   bathrooms      13679 non-null  float64       \n",
      " 5   sqft_living    13679 non-null  int64         \n",
      " 6   floors         13679 non-null  float64       \n",
      " 7   condition      13679 non-null  object        \n",
      " 8   grade          13679 non-null  object        \n",
      " 9   yr_built       13679 non-null  int64         \n",
      " 10  yr_renovated   13679 non-null  float64       \n",
      " 11  zipcode        13679 non-null  int64         \n",
      " 12  lat            13679 non-null  float64       \n",
      " 13  long           13679 non-null  float64       \n",
      " 14  grade_value    13679 non-null  int32         \n",
      " 15  age            13679 non-null  float64       \n",
      " 16  condition_num  13679 non-null  int64         \n",
      "dtypes: datetime64[ns](1), float64(7), int32(1), int64(6), object(2)\n",
      "memory usage: 1.8+ MB\n"
     ]
    }
   ],
   "source": [
    "df.info()"
   ]
  },
  {
   "cell_type": "markdown",
   "metadata": {},
   "source": [
    "# Removing Floor"
   ]
  },
  {
   "cell_type": "code",
   "execution_count": 285,
   "metadata": {},
   "outputs": [
    {
     "data": {
      "text/html": [
       "<table class=\"simpletable\">\n",
       "<caption>OLS Regression Results</caption>\n",
       "<tr>\n",
       "  <th>Dep. Variable:</th>          <td>price</td>      <th>  R-squared:         </th>  <td>   0.567</td>  \n",
       "</tr>\n",
       "<tr>\n",
       "  <th>Model:</th>                   <td>OLS</td>       <th>  Adj. R-squared:    </th>  <td>   0.566</td>  \n",
       "</tr>\n",
       "<tr>\n",
       "  <th>Method:</th>             <td>Least Squares</td>  <th>  F-statistic:       </th>  <td>   2554.</td>  \n",
       "</tr>\n",
       "<tr>\n",
       "  <th>Date:</th>             <td>Wed, 05 Jan 2022</td> <th>  Prob (F-statistic):</th>   <td>  0.00</td>   \n",
       "</tr>\n",
       "<tr>\n",
       "  <th>Time:</th>                 <td>16:37:59</td>     <th>  Log-Likelihood:    </th> <td>-1.8692e+05</td>\n",
       "</tr>\n",
       "<tr>\n",
       "  <th>No. Observations:</th>      <td> 13679</td>      <th>  AIC:               </th>  <td>3.738e+05</td> \n",
       "</tr>\n",
       "<tr>\n",
       "  <th>Df Residuals:</th>          <td> 13671</td>      <th>  BIC:               </th>  <td>3.739e+05</td> \n",
       "</tr>\n",
       "<tr>\n",
       "  <th>Df Model:</th>              <td>     7</td>      <th>                     </th>      <td> </td>     \n",
       "</tr>\n",
       "<tr>\n",
       "  <th>Covariance Type:</th>      <td>nonrobust</td>    <th>                     </th>      <td> </td>     \n",
       "</tr>\n",
       "</table>\n",
       "<table class=\"simpletable\">\n",
       "<tr>\n",
       "        <td></td>           <th>coef</th>     <th>std err</th>      <th>t</th>      <th>P>|t|</th>  <th>[0.025</th>    <th>0.975]</th>  \n",
       "</tr>\n",
       "<tr>\n",
       "  <th>const</th>         <td>-9.542e+05</td> <td> 2.25e+04</td> <td>  -42.414</td> <td> 0.000</td> <td>-9.98e+05</td> <td> -9.1e+05</td>\n",
       "</tr>\n",
       "<tr>\n",
       "  <th>sqft_living</th>   <td>  158.4077</td> <td>    4.080</td> <td>   38.823</td> <td> 0.000</td> <td>  150.410</td> <td>  166.406</td>\n",
       "</tr>\n",
       "<tr>\n",
       "  <th>grade_value</th>   <td> 1.239e+05</td> <td> 2668.314</td> <td>   46.422</td> <td> 0.000</td> <td> 1.19e+05</td> <td> 1.29e+05</td>\n",
       "</tr>\n",
       "<tr>\n",
       "  <th>condition_num</th> <td>   2.6e+04</td> <td> 3139.278</td> <td>    8.281</td> <td> 0.000</td> <td> 1.98e+04</td> <td> 3.22e+04</td>\n",
       "</tr>\n",
       "<tr>\n",
       "  <th>bedrooms</th>      <td>-4.271e+04</td> <td> 4112.942</td> <td>  -10.384</td> <td> 0.000</td> <td>-5.08e+04</td> <td>-3.46e+04</td>\n",
       "</tr>\n",
       "<tr>\n",
       "  <th>bathrooms</th>     <td> 5.433e+04</td> <td> 4277.328</td> <td>   12.701</td> <td> 0.000</td> <td> 4.59e+04</td> <td> 6.27e+04</td>\n",
       "</tr>\n",
       "<tr>\n",
       "  <th>age</th>           <td> 3363.5735</td> <td>   89.759</td> <td>   37.473</td> <td> 0.000</td> <td> 3187.633</td> <td> 3539.514</td>\n",
       "</tr>\n",
       "<tr>\n",
       "  <th>floors</th>        <td> 1.894e+04</td> <td> 4132.446</td> <td>    4.582</td> <td> 0.000</td> <td> 1.08e+04</td> <td>  2.7e+04</td>\n",
       "</tr>\n",
       "</table>\n",
       "<table class=\"simpletable\">\n",
       "<tr>\n",
       "  <th>Omnibus:</th>       <td>8131.570</td> <th>  Durbin-Watson:     </th>  <td>   1.983</td> \n",
       "</tr>\n",
       "<tr>\n",
       "  <th>Prob(Omnibus):</th>  <td> 0.000</td>  <th>  Jarque-Bera (JB):  </th> <td>165358.937</td>\n",
       "</tr>\n",
       "<tr>\n",
       "  <th>Skew:</th>           <td> 2.469</td>  <th>  Prob(JB):          </th>  <td>    0.00</td> \n",
       "</tr>\n",
       "<tr>\n",
       "  <th>Kurtosis:</th>       <td>19.302</td>  <th>  Cond. No.          </th>  <td>2.87e+04</td> \n",
       "</tr>\n",
       "</table><br/><br/>Notes:<br/>[1] Standard Errors assume that the covariance matrix of the errors is correctly specified.<br/>[2] The condition number is large, 2.87e+04. This might indicate that there are<br/>strong multicollinearity or other numerical problems."
      ],
      "text/plain": [
       "<class 'statsmodels.iolib.summary.Summary'>\n",
       "\"\"\"\n",
       "                            OLS Regression Results                            \n",
       "==============================================================================\n",
       "Dep. Variable:                  price   R-squared:                       0.567\n",
       "Model:                            OLS   Adj. R-squared:                  0.566\n",
       "Method:                 Least Squares   F-statistic:                     2554.\n",
       "Date:                Wed, 05 Jan 2022   Prob (F-statistic):               0.00\n",
       "Time:                        16:37:59   Log-Likelihood:            -1.8692e+05\n",
       "No. Observations:               13679   AIC:                         3.738e+05\n",
       "Df Residuals:                   13671   BIC:                         3.739e+05\n",
       "Df Model:                           7                                         \n",
       "Covariance Type:            nonrobust                                         \n",
       "=================================================================================\n",
       "                    coef    std err          t      P>|t|      [0.025      0.975]\n",
       "---------------------------------------------------------------------------------\n",
       "const         -9.542e+05   2.25e+04    -42.414      0.000   -9.98e+05    -9.1e+05\n",
       "sqft_living     158.4077      4.080     38.823      0.000     150.410     166.406\n",
       "grade_value    1.239e+05   2668.314     46.422      0.000    1.19e+05    1.29e+05\n",
       "condition_num    2.6e+04   3139.278      8.281      0.000    1.98e+04    3.22e+04\n",
       "bedrooms      -4.271e+04   4112.942    -10.384      0.000   -5.08e+04   -3.46e+04\n",
       "bathrooms      5.433e+04   4277.328     12.701      0.000    4.59e+04    6.27e+04\n",
       "age            3363.5735     89.759     37.473      0.000    3187.633    3539.514\n",
       "floors         1.894e+04   4132.446      4.582      0.000    1.08e+04     2.7e+04\n",
       "==============================================================================\n",
       "Omnibus:                     8131.570   Durbin-Watson:                   1.983\n",
       "Prob(Omnibus):                  0.000   Jarque-Bera (JB):           165358.937\n",
       "Skew:                           2.469   Prob(JB):                         0.00\n",
       "Kurtosis:                      19.302   Cond. No.                     2.87e+04\n",
       "==============================================================================\n",
       "\n",
       "Notes:\n",
       "[1] Standard Errors assume that the covariance matrix of the errors is correctly specified.\n",
       "[2] The condition number is large, 2.87e+04. This might indicate that there are\n",
       "strong multicollinearity or other numerical problems.\n",
       "\"\"\""
      ]
     },
     "execution_count": 285,
     "metadata": {},
     "output_type": "execute_result"
    }
   ],
   "source": [
    "y = df['price']\n",
    "x = df[variables]\n",
    "X = sm.add_constant(x)\n",
    "model = sm.OLS(y,X).fit()\n",
    "model.summary()"
   ]
  },
  {
   "cell_type": "code",
   "execution_count": 286,
   "metadata": {},
   "outputs": [
    {
     "name": "stdout",
     "output_type": "stream",
     "text": [
      "Price of sample: $1100000.0\n"
     ]
    },
    {
     "data": {
      "text/html": [
       "<div>\n",
       "<style scoped>\n",
       "    .dataframe tbody tr th:only-of-type {\n",
       "        vertical-align: middle;\n",
       "    }\n",
       "\n",
       "    .dataframe tbody tr th {\n",
       "        vertical-align: top;\n",
       "    }\n",
       "\n",
       "    .dataframe thead th {\n",
       "        text-align: right;\n",
       "    }\n",
       "</style>\n",
       "<table border=\"1\" class=\"dataframe\">\n",
       "  <thead>\n",
       "    <tr style=\"text-align: right;\">\n",
       "      <th></th>\n",
       "      <th>sqft_living</th>\n",
       "      <th>grade_value</th>\n",
       "      <th>condition_num</th>\n",
       "      <th>bedrooms</th>\n",
       "      <th>bathrooms</th>\n",
       "      <th>age</th>\n",
       "      <th>floors</th>\n",
       "    </tr>\n",
       "  </thead>\n",
       "  <tbody>\n",
       "    <tr>\n",
       "      <th>9765</th>\n",
       "      <td>2640</td>\n",
       "      <td>8</td>\n",
       "      <td>4</td>\n",
       "      <td>3</td>\n",
       "      <td>2.75</td>\n",
       "      <td>89.0</td>\n",
       "      <td>1.5</td>\n",
       "    </tr>\n",
       "  </tbody>\n",
       "</table>\n",
       "</div>"
      ],
      "text/plain": [
       "      sqft_living  grade_value  condition_num  bedrooms  bathrooms   age  \\\n",
       "9765         2640            8              4         3       2.75  89.0   \n",
       "\n",
       "      floors  \n",
       "9765     1.5  "
      ]
     },
     "execution_count": 286,
     "metadata": {},
     "output_type": "execute_result"
    }
   ],
   "source": [
    "my_sample = df.sample(1)\n",
    "my_sample_price = my_sample.iloc[0,2]\n",
    "my_sample_pt = my_sample[variables]\n",
    "\n",
    "# Show my random sample off\n",
    "print(f'Price of sample: ${my_sample_price}')\n",
    "my_sample_pt"
   ]
  },
  {
   "cell_type": "code",
   "execution_count": 287,
   "metadata": {},
   "outputs": [],
   "source": [
    "def train_lr_randomly(data, sample_pt=None, ntimes=100):\n",
    "    '''\n",
    "    Takes in features & targets from `data` to train a linear regression with a\n",
    "    random sample `ntimes`. It then returns a list of R2 scores, RMSEs, and the \n",
    "    predictions from a provided data point of features `sample_pt`.\n",
    "    '''\n",
    "    # To save all of our predictions\n",
    "    r2 = []\n",
    "    rmse = []\n",
    "    # Only return predictions if there is something to predict (sample_pt given)\n",
    "    point_preds = [] if (sample_pt is not None) else None\n",
    "\n",
    "    # We'll repeat this little experiment to see how the model does\n",
    "    for i in range(ntimes):\n",
    "        # Creating a random sample of data to train on\n",
    "        df_sample = data.sample(5000, replace=True)\n",
    "        y = df_sample.price\n",
    "        X = df_sample.drop('price', axis=1)\n",
    "\n",
    "        # Our linear regression model about to be trained\n",
    "        lr = LinearRegression()\n",
    "        lr.fit(X, y)\n",
    "\n",
    "        # Making predictions & evaluating on the data we used to train the model\n",
    "        y_hat = lr.predict(X)\n",
    "        rmse.append(np.sqrt(mean_squared_error(y, y_hat)))\n",
    "        r2.append(lr.score(X, y))\n",
    "\n",
    "        # Making a prediction on the one point the model definitely never saw\n",
    "        if sample_pt is not None:\n",
    "            y_hat_pt = lr.predict(sample_pt)\n",
    "            # Getting just the single point to add into list\n",
    "            point_preds.append(y_hat_pt[0])\n",
    "    \n",
    "    return r2, rmse, point_preds"
   ]
  },
  {
   "cell_type": "code",
   "execution_count": 288,
   "metadata": {},
   "outputs": [],
   "source": [
    "r2_simple, rmse_simple, pt_preds_simple = train_lr_randomly(\n",
    "                                                        data=df[price_var], \n",
    "                                                        sample_pt=my_sample_pt,\n",
    "                                                        ntimes=100                            \n",
    ")"
   ]
  },
  {
   "cell_type": "code",
   "execution_count": 289,
   "metadata": {},
   "outputs": [
    {
     "data": {
      "image/png": "[encoded data removed]",
      "text/plain": [
       "<Figure size 432x288 with 1 Axes>"
      ]
     },
     "metadata": {
      "needs_background": "light"
     },
     "output_type": "display_data"
    }
   ],
   "source": [
    "ax = sns.boxplot(x=pt_preds_simple);\n",
    "ax = sns.swarmplot(x=pt_preds_simple, color='orange', ax=ax)\n",
    "ax.set_title(f'Predicting Sample Pt Price: ${my_sample_price:,.2f} (Simple LR)');"
   ]
  },
  {
   "cell_type": "code",
   "execution_count": 290,
   "metadata": {},
   "outputs": [],
   "source": [
    "df_pol = df[variables]"
   ]
  },
  {
   "cell_type": "code",
   "execution_count": 291,
   "metadata": {},
   "outputs": [
    {
     "data": {
      "text/html": [
       "<div>\n",
       "<style scoped>\n",
       "    .dataframe tbody tr th:only-of-type {\n",
       "        vertical-align: middle;\n",
       "    }\n",
       "\n",
       "    .dataframe tbody tr th {\n",
       "        vertical-align: top;\n",
       "    }\n",
       "\n",
       "    .dataframe thead th {\n",
       "        text-align: right;\n",
       "    }\n",
       "</style>\n",
       "<table border=\"1\" class=\"dataframe\">\n",
       "  <thead>\n",
       "    <tr style=\"text-align: right;\">\n",
       "      <th></th>\n",
       "      <th>price</th>\n",
       "      <th>0</th>\n",
       "      <th>1</th>\n",
       "      <th>2</th>\n",
       "      <th>3</th>\n",
       "      <th>4</th>\n",
       "      <th>5</th>\n",
       "      <th>6</th>\n",
       "      <th>7</th>\n",
       "      <th>8</th>\n",
       "      <th>...</th>\n",
       "      <th>26</th>\n",
       "      <th>27</th>\n",
       "      <th>28</th>\n",
       "      <th>29</th>\n",
       "      <th>30</th>\n",
       "      <th>31</th>\n",
       "      <th>32</th>\n",
       "      <th>33</th>\n",
       "      <th>34</th>\n",
       "      <th>35</th>\n",
       "    </tr>\n",
       "  </thead>\n",
       "  <tbody>\n",
       "    <tr>\n",
       "      <th>0</th>\n",
       "      <td>221900.0</td>\n",
       "      <td>1.0</td>\n",
       "      <td>1180.0</td>\n",
       "      <td>7.0</td>\n",
       "      <td>2.0</td>\n",
       "      <td>3.0</td>\n",
       "      <td>1.00</td>\n",
       "      <td>60.0</td>\n",
       "      <td>1.0</td>\n",
       "      <td>1392400.0</td>\n",
       "      <td>...</td>\n",
       "      <td>9.0</td>\n",
       "      <td>3.00</td>\n",
       "      <td>180.0</td>\n",
       "      <td>3.0</td>\n",
       "      <td>1.0000</td>\n",
       "      <td>60.0</td>\n",
       "      <td>1.0</td>\n",
       "      <td>3600.0</td>\n",
       "      <td>60.0</td>\n",
       "      <td>1.0</td>\n",
       "    </tr>\n",
       "    <tr>\n",
       "      <th>1</th>\n",
       "      <td>538000.0</td>\n",
       "      <td>1.0</td>\n",
       "      <td>2570.0</td>\n",
       "      <td>7.0</td>\n",
       "      <td>2.0</td>\n",
       "      <td>3.0</td>\n",
       "      <td>2.25</td>\n",
       "      <td>24.0</td>\n",
       "      <td>2.0</td>\n",
       "      <td>6604900.0</td>\n",
       "      <td>...</td>\n",
       "      <td>9.0</td>\n",
       "      <td>6.75</td>\n",
       "      <td>72.0</td>\n",
       "      <td>6.0</td>\n",
       "      <td>5.0625</td>\n",
       "      <td>54.0</td>\n",
       "      <td>4.5</td>\n",
       "      <td>576.0</td>\n",
       "      <td>48.0</td>\n",
       "      <td>4.0</td>\n",
       "    </tr>\n",
       "    <tr>\n",
       "      <th>3</th>\n",
       "      <td>604000.0</td>\n",
       "      <td>1.0</td>\n",
       "      <td>1960.0</td>\n",
       "      <td>7.0</td>\n",
       "      <td>4.0</td>\n",
       "      <td>4.0</td>\n",
       "      <td>3.00</td>\n",
       "      <td>50.0</td>\n",
       "      <td>1.0</td>\n",
       "      <td>3841600.0</td>\n",
       "      <td>...</td>\n",
       "      <td>16.0</td>\n",
       "      <td>12.00</td>\n",
       "      <td>200.0</td>\n",
       "      <td>4.0</td>\n",
       "      <td>9.0000</td>\n",
       "      <td>150.0</td>\n",
       "      <td>3.0</td>\n",
       "      <td>2500.0</td>\n",
       "      <td>50.0</td>\n",
       "      <td>1.0</td>\n",
       "    </tr>\n",
       "    <tr>\n",
       "      <th>4</th>\n",
       "      <td>510000.0</td>\n",
       "      <td>1.0</td>\n",
       "      <td>1680.0</td>\n",
       "      <td>8.0</td>\n",
       "      <td>2.0</td>\n",
       "      <td>3.0</td>\n",
       "      <td>2.00</td>\n",
       "      <td>28.0</td>\n",
       "      <td>1.0</td>\n",
       "      <td>2822400.0</td>\n",
       "      <td>...</td>\n",
       "      <td>9.0</td>\n",
       "      <td>6.00</td>\n",
       "      <td>84.0</td>\n",
       "      <td>3.0</td>\n",
       "      <td>4.0000</td>\n",
       "      <td>56.0</td>\n",
       "      <td>2.0</td>\n",
       "      <td>784.0</td>\n",
       "      <td>28.0</td>\n",
       "      <td>1.0</td>\n",
       "    </tr>\n",
       "    <tr>\n",
       "      <th>5</th>\n",
       "      <td>1230000.0</td>\n",
       "      <td>1.0</td>\n",
       "      <td>5420.0</td>\n",
       "      <td>11.0</td>\n",
       "      <td>2.0</td>\n",
       "      <td>4.0</td>\n",
       "      <td>4.50</td>\n",
       "      <td>14.0</td>\n",
       "      <td>1.0</td>\n",
       "      <td>29376400.0</td>\n",
       "      <td>...</td>\n",
       "      <td>16.0</td>\n",
       "      <td>18.00</td>\n",
       "      <td>56.0</td>\n",
       "      <td>4.0</td>\n",
       "      <td>20.2500</td>\n",
       "      <td>63.0</td>\n",
       "      <td>4.5</td>\n",
       "      <td>196.0</td>\n",
       "      <td>14.0</td>\n",
       "      <td>1.0</td>\n",
       "    </tr>\n",
       "    <tr>\n",
       "      <th>6</th>\n",
       "      <td>257500.0</td>\n",
       "      <td>1.0</td>\n",
       "      <td>1715.0</td>\n",
       "      <td>7.0</td>\n",
       "      <td>2.0</td>\n",
       "      <td>3.0</td>\n",
       "      <td>2.25</td>\n",
       "      <td>20.0</td>\n",
       "      <td>2.0</td>\n",
       "      <td>2941225.0</td>\n",
       "      <td>...</td>\n",
       "      <td>9.0</td>\n",
       "      <td>6.75</td>\n",
       "      <td>60.0</td>\n",
       "      <td>6.0</td>\n",
       "      <td>5.0625</td>\n",
       "      <td>45.0</td>\n",
       "      <td>4.5</td>\n",
       "      <td>400.0</td>\n",
       "      <td>40.0</td>\n",
       "      <td>4.0</td>\n",
       "    </tr>\n",
       "    <tr>\n",
       "      <th>7</th>\n",
       "      <td>291850.0</td>\n",
       "      <td>1.0</td>\n",
       "      <td>1060.0</td>\n",
       "      <td>7.0</td>\n",
       "      <td>2.0</td>\n",
       "      <td>3.0</td>\n",
       "      <td>1.50</td>\n",
       "      <td>52.0</td>\n",
       "      <td>1.0</td>\n",
       "      <td>1123600.0</td>\n",
       "      <td>...</td>\n",
       "      <td>9.0</td>\n",
       "      <td>4.50</td>\n",
       "      <td>156.0</td>\n",
       "      <td>3.0</td>\n",
       "      <td>2.2500</td>\n",
       "      <td>78.0</td>\n",
       "      <td>1.5</td>\n",
       "      <td>2704.0</td>\n",
       "      <td>52.0</td>\n",
       "      <td>1.0</td>\n",
       "    </tr>\n",
       "    <tr>\n",
       "      <th>8</th>\n",
       "      <td>229500.0</td>\n",
       "      <td>1.0</td>\n",
       "      <td>1780.0</td>\n",
       "      <td>7.0</td>\n",
       "      <td>2.0</td>\n",
       "      <td>3.0</td>\n",
       "      <td>1.00</td>\n",
       "      <td>55.0</td>\n",
       "      <td>1.0</td>\n",
       "      <td>3168400.0</td>\n",
       "      <td>...</td>\n",
       "      <td>9.0</td>\n",
       "      <td>3.00</td>\n",
       "      <td>165.0</td>\n",
       "      <td>3.0</td>\n",
       "      <td>1.0000</td>\n",
       "      <td>55.0</td>\n",
       "      <td>1.0</td>\n",
       "      <td>3025.0</td>\n",
       "      <td>55.0</td>\n",
       "      <td>1.0</td>\n",
       "    </tr>\n",
       "    <tr>\n",
       "      <th>9</th>\n",
       "      <td>323000.0</td>\n",
       "      <td>1.0</td>\n",
       "      <td>1890.0</td>\n",
       "      <td>7.0</td>\n",
       "      <td>2.0</td>\n",
       "      <td>3.0</td>\n",
       "      <td>2.50</td>\n",
       "      <td>12.0</td>\n",
       "      <td>2.0</td>\n",
       "      <td>3572100.0</td>\n",
       "      <td>...</td>\n",
       "      <td>9.0</td>\n",
       "      <td>7.50</td>\n",
       "      <td>36.0</td>\n",
       "      <td>6.0</td>\n",
       "      <td>6.2500</td>\n",
       "      <td>30.0</td>\n",
       "      <td>5.0</td>\n",
       "      <td>144.0</td>\n",
       "      <td>24.0</td>\n",
       "      <td>4.0</td>\n",
       "    </tr>\n",
       "    <tr>\n",
       "      <th>10</th>\n",
       "      <td>662500.0</td>\n",
       "      <td>1.0</td>\n",
       "      <td>3560.0</td>\n",
       "      <td>8.0</td>\n",
       "      <td>2.0</td>\n",
       "      <td>3.0</td>\n",
       "      <td>2.50</td>\n",
       "      <td>50.0</td>\n",
       "      <td>1.0</td>\n",
       "      <td>12673600.0</td>\n",
       "      <td>...</td>\n",
       "      <td>9.0</td>\n",
       "      <td>7.50</td>\n",
       "      <td>150.0</td>\n",
       "      <td>3.0</td>\n",
       "      <td>6.2500</td>\n",
       "      <td>125.0</td>\n",
       "      <td>2.5</td>\n",
       "      <td>2500.0</td>\n",
       "      <td>50.0</td>\n",
       "      <td>1.0</td>\n",
       "    </tr>\n",
       "  </tbody>\n",
       "</table>\n",
       "<p>10 rows × 37 columns</p>\n",
       "</div>"
      ],
      "text/plain": [
       "        price    0       1     2    3    4     5     6    7           8  ...  \\\n",
       "0    221900.0  1.0  1180.0   7.0  2.0  3.0  1.00  60.0  1.0   1392400.0  ...   \n",
       "1    538000.0  1.0  2570.0   7.0  2.0  3.0  2.25  24.0  2.0   6604900.0  ...   \n",
       "3    604000.0  1.0  1960.0   7.0  4.0  4.0  3.00  50.0  1.0   3841600.0  ...   \n",
       "4    510000.0  1.0  1680.0   8.0  2.0  3.0  2.00  28.0  1.0   2822400.0  ...   \n",
       "5   1230000.0  1.0  5420.0  11.0  2.0  4.0  4.50  14.0  1.0  29376400.0  ...   \n",
       "6    257500.0  1.0  1715.0   7.0  2.0  3.0  2.25  20.0  2.0   2941225.0  ...   \n",
       "7    291850.0  1.0  1060.0   7.0  2.0  3.0  1.50  52.0  1.0   1123600.0  ...   \n",
       "8    229500.0  1.0  1780.0   7.0  2.0  3.0  1.00  55.0  1.0   3168400.0  ...   \n",
       "9    323000.0  1.0  1890.0   7.0  2.0  3.0  2.50  12.0  2.0   3572100.0  ...   \n",
       "10   662500.0  1.0  3560.0   8.0  2.0  3.0  2.50  50.0  1.0  12673600.0  ...   \n",
       "\n",
       "      26     27     28   29       30     31   32      33    34   35  \n",
       "0    9.0   3.00  180.0  3.0   1.0000   60.0  1.0  3600.0  60.0  1.0  \n",
       "1    9.0   6.75   72.0  6.0   5.0625   54.0  4.5   576.0  48.0  4.0  \n",
       "3   16.0  12.00  200.0  4.0   9.0000  150.0  3.0  2500.0  50.0  1.0  \n",
       "4    9.0   6.00   84.0  3.0   4.0000   56.0  2.0   784.0  28.0  1.0  \n",
       "5   16.0  18.00   56.0  4.0  20.2500   63.0  4.5   196.0  14.0  1.0  \n",
       "6    9.0   6.75   60.0  6.0   5.0625   45.0  4.5   400.0  40.0  4.0  \n",
       "7    9.0   4.50  156.0  3.0   2.2500   78.0  1.5  2704.0  52.0  1.0  \n",
       "8    9.0   3.00  165.0  3.0   1.0000   55.0  1.0  3025.0  55.0  1.0  \n",
       "9    9.0   7.50   36.0  6.0   6.2500   30.0  5.0   144.0  24.0  4.0  \n",
       "10   9.0   7.50  150.0  3.0   6.2500  125.0  2.5  2500.0  50.0  1.0  \n",
       "\n",
       "[10 rows x 37 columns]"
      ]
     },
     "execution_count": 291,
     "metadata": {},
     "output_type": "execute_result"
    }
   ],
   "source": [
    "pf = PolynomialFeatures(2)\n",
    "\n",
    "df_poly = pd.DataFrame(pf.fit_transform(df_pol))\n",
    "df_poly.index = df_pol.index\n",
    "df_poly['price'] = df['price']\n",
    "\n",
    "cols = list(df_poly)\n",
    "\n",
    "# move the column to head of list using index, pop and insert\n",
    "cols.insert(0, cols.pop(cols.index('price')))\n",
    "\n",
    "df_poly = df_poly.loc[:, cols]\n",
    "\n",
    "df_poly.head(10)"
   ]
  },
  {
   "cell_type": "code",
   "execution_count": 292,
   "metadata": {},
   "outputs": [
    {
     "name": "stdout",
     "output_type": "stream",
     "text": [
      "Price of sample: $1100000.0\n"
     ]
    },
    {
     "data": {
      "text/plain": [
       "(1, 36)"
      ]
     },
     "execution_count": 292,
     "metadata": {},
     "output_type": "execute_result"
    }
   ],
   "source": [
    "# Let's make sure we have another sample point to test our models\n",
    "my_sample_pt_poly = pf.transform(my_sample_pt)\n",
    "\n",
    "# Show my random sample off\n",
    "print(f'Price of sample: ${my_sample_price}')\n",
    "my_sample_pt_poly.shape"
   ]
  },
  {
   "cell_type": "code",
   "execution_count": 293,
   "metadata": {},
   "outputs": [],
   "source": [
    "# Run 100 linear regression trainings on some random polynomial features data\n",
    "# from df_poly and compare it with the random sample point\n",
    "r2_poly, rmse_poly, pt_preds_poly = train_lr_randomly(\n",
    "                                                data=df_poly, \n",
    "                                                sample_pt=my_sample_pt_poly,\n",
    "                                                ntimes=100 \n",
    ")"
   ]
  },
  {
   "cell_type": "code",
   "execution_count": 294,
   "metadata": {},
   "outputs": [
    {
     "data": {
      "image/png": "[encoded data removed]",
      "text/plain": [
       "<Figure size 432x288 with 2 Axes>"
      ]
     },
     "metadata": {
      "needs_background": "light"
     },
     "output_type": "display_data"
    }
   ],
   "source": [
    "f, (ax1,ax2) = plt.subplots(nrows=2, ncols=1, sharex=True, figsize=(6,4));\n",
    "\n",
    "# Simple model\n",
    "ax = sns.boxplot(x=pt_preds_simple, ax=ax1);\n",
    "ax = sns.swarmplot(x=pt_preds_simple, color='orange', ax=ax)\n",
    "ax.set_title(f'Predicting Sample Pt Price: ${my_sample_price:,.2f} (Simple LR)');\n",
    "\n",
    "# Complex model\n",
    "ax = sns.boxplot(x=pt_preds_poly, ax=ax2);\n",
    "ax = sns.swarmplot(x=pt_preds_poly, color='orange', ax=ax)\n",
    "ax.set_title(f'Predicting Sample Pt Price: ${my_sample_price:,.2f} (Complex LR)');\n",
    "\n",
    "# Makes spacing work better\n",
    "f.tight_layout()"
   ]
  },
  {
   "cell_type": "code",
   "execution_count": 295,
   "metadata": {},
   "outputs": [
    {
     "name": "stdout",
     "output_type": "stream",
     "text": [
      "How it did on its own training data:\n",
      "\t- simple mean 208801.435317807\n",
      "\t- complex mean 199106.92795121964\n",
      "\n",
      "\n",
      "How it did on data it never saw:\n",
      "\t- simple variance 16822.407728502112\n",
      "\t- complex variance 52664.92743591973\n"
     ]
    }
   ],
   "source": [
    "print('How it did on its own training data:')\n",
    "print(f'\\t- simple mean {np.mean(rmse_simple)}')\n",
    "print(f'\\t- complex mean {np.mean(rmse_poly)}')\n",
    "print('\\n')\n",
    "\n",
    "print('How it did on data it never saw:')\n",
    "print(f'\\t- simple variance {np.std(pt_preds_simple)}')\n",
    "print(f'\\t- complex variance {np.std(pt_preds_poly)}')"
   ]
  },
  {
   "cell_type": "code",
   "execution_count": 296,
   "metadata": {},
   "outputs": [],
   "source": [
    "X_train, X_test, y_train, y_test = train_test_split(X, \n",
    "                                                    y,\n",
    "                                                    test_size=None,\n",
    "                                                    random_state=42)"
   ]
  },
  {
   "cell_type": "code",
   "execution_count": 297,
   "metadata": {},
   "outputs": [
    {
     "data": {
      "text/html": [
       "<div>\n",
       "<style scoped>\n",
       "    .dataframe tbody tr th:only-of-type {\n",
       "        vertical-align: middle;\n",
       "    }\n",
       "\n",
       "    .dataframe tbody tr th {\n",
       "        vertical-align: top;\n",
       "    }\n",
       "\n",
       "    .dataframe thead th {\n",
       "        text-align: right;\n",
       "    }\n",
       "</style>\n",
       "<table border=\"1\" class=\"dataframe\">\n",
       "  <thead>\n",
       "    <tr style=\"text-align: right;\">\n",
       "      <th></th>\n",
       "      <th>const</th>\n",
       "      <th>sqft_living</th>\n",
       "      <th>grade_value</th>\n",
       "      <th>condition_num</th>\n",
       "      <th>bedrooms</th>\n",
       "      <th>bathrooms</th>\n",
       "      <th>age</th>\n",
       "      <th>floors</th>\n",
       "    </tr>\n",
       "  </thead>\n",
       "  <tbody>\n",
       "    <tr>\n",
       "      <th>2868</th>\n",
       "      <td>1.0</td>\n",
       "      <td>1720</td>\n",
       "      <td>8</td>\n",
       "      <td>3</td>\n",
       "      <td>3</td>\n",
       "      <td>1.75</td>\n",
       "      <td>41.0</td>\n",
       "      <td>1.0</td>\n",
       "    </tr>\n",
       "    <tr>\n",
       "      <th>6897</th>\n",
       "      <td>1.0</td>\n",
       "      <td>1660</td>\n",
       "      <td>7</td>\n",
       "      <td>2</td>\n",
       "      <td>3</td>\n",
       "      <td>1.00</td>\n",
       "      <td>105.0</td>\n",
       "      <td>1.5</td>\n",
       "    </tr>\n",
       "    <tr>\n",
       "      <th>165</th>\n",
       "      <td>1.0</td>\n",
       "      <td>1580</td>\n",
       "      <td>7</td>\n",
       "      <td>2</td>\n",
       "      <td>3</td>\n",
       "      <td>1.75</td>\n",
       "      <td>39.0</td>\n",
       "      <td>1.0</td>\n",
       "    </tr>\n",
       "    <tr>\n",
       "      <th>703</th>\n",
       "      <td>1.0</td>\n",
       "      <td>1400</td>\n",
       "      <td>7</td>\n",
       "      <td>2</td>\n",
       "      <td>4</td>\n",
       "      <td>2.00</td>\n",
       "      <td>115.0</td>\n",
       "      <td>1.0</td>\n",
       "    </tr>\n",
       "    <tr>\n",
       "      <th>17056</th>\n",
       "      <td>1.0</td>\n",
       "      <td>1270</td>\n",
       "      <td>7</td>\n",
       "      <td>3</td>\n",
       "      <td>3</td>\n",
       "      <td>1.75</td>\n",
       "      <td>25.0</td>\n",
       "      <td>1.0</td>\n",
       "    </tr>\n",
       "  </tbody>\n",
       "</table>\n",
       "</div>"
      ],
      "text/plain": [
       "       const  sqft_living  grade_value  condition_num  bedrooms  bathrooms  \\\n",
       "2868     1.0         1720            8              3         3       1.75   \n",
       "6897     1.0         1660            7              2         3       1.00   \n",
       "165      1.0         1580            7              2         3       1.75   \n",
       "703      1.0         1400            7              2         4       2.00   \n",
       "17056    1.0         1270            7              3         3       1.75   \n",
       "\n",
       "         age  floors  \n",
       "2868    41.0     1.0  \n",
       "6897   105.0     1.5  \n",
       "165     39.0     1.0  \n",
       "703    115.0     1.0  \n",
       "17056   25.0     1.0  "
      ]
     },
     "metadata": {},
     "output_type": "display_data"
    },
    {
     "data": {
      "text/html": [
       "<div>\n",
       "<style scoped>\n",
       "    .dataframe tbody tr th:only-of-type {\n",
       "        vertical-align: middle;\n",
       "    }\n",
       "\n",
       "    .dataframe tbody tr th {\n",
       "        vertical-align: top;\n",
       "    }\n",
       "\n",
       "    .dataframe thead th {\n",
       "        text-align: right;\n",
       "    }\n",
       "</style>\n",
       "<table border=\"1\" class=\"dataframe\">\n",
       "  <thead>\n",
       "    <tr style=\"text-align: right;\">\n",
       "      <th></th>\n",
       "      <th>const</th>\n",
       "      <th>sqft_living</th>\n",
       "      <th>grade_value</th>\n",
       "      <th>condition_num</th>\n",
       "      <th>bedrooms</th>\n",
       "      <th>bathrooms</th>\n",
       "      <th>age</th>\n",
       "      <th>floors</th>\n",
       "    </tr>\n",
       "  </thead>\n",
       "  <tbody>\n",
       "    <tr>\n",
       "      <th>21457</th>\n",
       "      <td>1.0</td>\n",
       "      <td>3560</td>\n",
       "      <td>10</td>\n",
       "      <td>2</td>\n",
       "      <td>4</td>\n",
       "      <td>2.75</td>\n",
       "      <td>1.0</td>\n",
       "      <td>2.0</td>\n",
       "    </tr>\n",
       "    <tr>\n",
       "      <th>2492</th>\n",
       "      <td>1.0</td>\n",
       "      <td>1510</td>\n",
       "      <td>7</td>\n",
       "      <td>1</td>\n",
       "      <td>3</td>\n",
       "      <td>1.75</td>\n",
       "      <td>36.0</td>\n",
       "      <td>1.0</td>\n",
       "    </tr>\n",
       "    <tr>\n",
       "      <th>7763</th>\n",
       "      <td>1.0</td>\n",
       "      <td>1780</td>\n",
       "      <td>8</td>\n",
       "      <td>2</td>\n",
       "      <td>3</td>\n",
       "      <td>2.25</td>\n",
       "      <td>8.0</td>\n",
       "      <td>3.0</td>\n",
       "    </tr>\n",
       "    <tr>\n",
       "      <th>17261</th>\n",
       "      <td>1.0</td>\n",
       "      <td>1290</td>\n",
       "      <td>7</td>\n",
       "      <td>2</td>\n",
       "      <td>3</td>\n",
       "      <td>1.75</td>\n",
       "      <td>31.0</td>\n",
       "      <td>1.0</td>\n",
       "    </tr>\n",
       "    <tr>\n",
       "      <th>3887</th>\n",
       "      <td>1.0</td>\n",
       "      <td>3410</td>\n",
       "      <td>10</td>\n",
       "      <td>3</td>\n",
       "      <td>4</td>\n",
       "      <td>2.75</td>\n",
       "      <td>53.0</td>\n",
       "      <td>1.5</td>\n",
       "    </tr>\n",
       "  </tbody>\n",
       "</table>\n",
       "</div>"
      ],
      "text/plain": [
       "       const  sqft_living  grade_value  condition_num  bedrooms  bathrooms  \\\n",
       "21457    1.0         3560           10              2         4       2.75   \n",
       "2492     1.0         1510            7              1         3       1.75   \n",
       "7763     1.0         1780            8              2         3       2.25   \n",
       "17261    1.0         1290            7              2         3       1.75   \n",
       "3887     1.0         3410           10              3         4       2.75   \n",
       "\n",
       "        age  floors  \n",
       "21457   1.0     2.0  \n",
       "2492   36.0     1.0  \n",
       "7763    8.0     3.0  \n",
       "17261  31.0     1.0  \n",
       "3887   53.0     1.5  "
      ]
     },
     "metadata": {},
     "output_type": "display_data"
    }
   ],
   "source": [
    "display(X_train.head())\n",
    "display(X_test.head())"
   ]
  },
  {
   "cell_type": "code",
   "execution_count": 298,
   "metadata": {},
   "outputs": [
    {
     "name": "stdout",
     "output_type": "stream",
     "text": [
      "(10259, 8)\n",
      "(3420, 8)\n",
      "True\n",
      "True\n"
     ]
    }
   ],
   "source": [
    "print(X_train.shape)\n",
    "print(X_test.shape)\n",
    "\n",
    "print(X_train.shape[0] == y_train.shape[0])\n",
    "print(X_test.shape[0] == y_test.shape[0])"
   ]
  },
  {
   "cell_type": "code",
   "execution_count": 299,
   "metadata": {},
   "outputs": [
    {
     "data": {
      "text/plain": [
       "LinearRegression()"
      ]
     },
     "execution_count": 299,
     "metadata": {},
     "output_type": "execute_result"
    }
   ],
   "source": [
    "lr = LinearRegression()\n",
    "lr.fit(X_train, y_train)"
   ]
  },
  {
   "cell_type": "code",
   "execution_count": 300,
   "metadata": {},
   "outputs": [
    {
     "data": {
      "text/plain": [
       "array([512695.3765833 , 534848.53085167, 332680.23362871, ...,\n",
       "       691415.05018326, 339868.11550229, 890582.84951685])"
      ]
     },
     "execution_count": 300,
     "metadata": {},
     "output_type": "execute_result"
    }
   ],
   "source": [
    "lr.predict(X_train)"
   ]
  },
  {
   "cell_type": "code",
   "execution_count": 301,
   "metadata": {},
   "outputs": [
    {
     "data": {
      "text/plain": [
       "0.5624373182252487"
      ]
     },
     "execution_count": 301,
     "metadata": {},
     "output_type": "execute_result"
    }
   ],
   "source": [
    "lr.score(X_train, y_train)"
   ]
  },
  {
   "cell_type": "code",
   "execution_count": 302,
   "metadata": {},
   "outputs": [
    {
     "data": {
      "text/plain": [
       "201328.8911991788"
      ]
     },
     "execution_count": 302,
     "metadata": {},
     "output_type": "execute_result"
    }
   ],
   "source": [
    "rmse_total = (sum((y_test - lr.predict(X_test))**2)/len(y_test))**.5\n",
    "rmse_total"
   ]
  },
  {
   "cell_type": "code",
   "execution_count": 303,
   "metadata": {},
   "outputs": [
    {
     "data": {
      "text/plain": [
       "0.5795527780437445"
      ]
     },
     "execution_count": 303,
     "metadata": {},
     "output_type": "execute_result"
    }
   ],
   "source": [
    "lr.score(X_test, y_test)"
   ]
  },
  {
   "cell_type": "code",
   "execution_count": 304,
   "metadata": {},
   "outputs": [
    {
     "data": {
      "text/plain": [
       "17137    0.020248\n",
       "11245    0.040079\n",
       "7425     0.056898\n",
       "5444     0.072329\n",
       "18314    0.086091\n",
       "           ...   \n",
       "19947    1.000000\n",
       "19091    1.000000\n",
       "1769     1.000000\n",
       "17421    1.000000\n",
       "12452    1.000000\n",
       "Name: price, Length: 3420, dtype: float64"
      ]
     },
     "execution_count": 304,
     "metadata": {},
     "output_type": "execute_result"
    }
   ],
   "source": [
    "((y_test-lr.predict(X_test))**2).sort_values(ascending=False).cumsum()/sum(((y_test-lr.predict(X_test))**2).sort_values(ascending=False))"
   ]
  },
  {
   "cell_type": "code",
   "execution_count": 306,
   "metadata": {},
   "outputs": [
    {
     "data": {
      "text/html": [
       "<div>\n",
       "<style scoped>\n",
       "    .dataframe tbody tr th:only-of-type {\n",
       "        vertical-align: middle;\n",
       "    }\n",
       "\n",
       "    .dataframe tbody tr th {\n",
       "        vertical-align: top;\n",
       "    }\n",
       "\n",
       "    .dataframe thead th {\n",
       "        text-align: right;\n",
       "    }\n",
       "</style>\n",
       "<table border=\"1\" class=\"dataframe\">\n",
       "  <thead>\n",
       "    <tr style=\"text-align: right;\">\n",
       "      <th></th>\n",
       "      <th>0</th>\n",
       "      <th>1</th>\n",
       "      <th>2</th>\n",
       "      <th>3</th>\n",
       "      <th>4</th>\n",
       "      <th>5</th>\n",
       "      <th>6</th>\n",
       "      <th>7</th>\n",
       "      <th>8</th>\n",
       "      <th>9</th>\n",
       "      <th>...</th>\n",
       "      <th>320</th>\n",
       "      <th>321</th>\n",
       "      <th>322</th>\n",
       "      <th>323</th>\n",
       "      <th>324</th>\n",
       "      <th>325</th>\n",
       "      <th>326</th>\n",
       "      <th>327</th>\n",
       "      <th>328</th>\n",
       "      <th>329</th>\n",
       "    </tr>\n",
       "  </thead>\n",
       "  <tbody>\n",
       "    <tr>\n",
       "      <th>0</th>\n",
       "      <td>1.0</td>\n",
       "      <td>1180.0</td>\n",
       "      <td>7.0</td>\n",
       "      <td>2.0</td>\n",
       "      <td>3.0</td>\n",
       "      <td>1.00</td>\n",
       "      <td>60.0</td>\n",
       "      <td>1.0</td>\n",
       "      <td>1392400.0</td>\n",
       "      <td>8260.0</td>\n",
       "      <td>...</td>\n",
       "      <td>1.00</td>\n",
       "      <td>216000.0</td>\n",
       "      <td>3600.0</td>\n",
       "      <td>60.0</td>\n",
       "      <td>1.0</td>\n",
       "      <td>12960000.0</td>\n",
       "      <td>216000.0</td>\n",
       "      <td>3600.0</td>\n",
       "      <td>60.0</td>\n",
       "      <td>1.0</td>\n",
       "    </tr>\n",
       "    <tr>\n",
       "      <th>1</th>\n",
       "      <td>1.0</td>\n",
       "      <td>2570.0</td>\n",
       "      <td>7.0</td>\n",
       "      <td>2.0</td>\n",
       "      <td>3.0</td>\n",
       "      <td>2.25</td>\n",
       "      <td>24.0</td>\n",
       "      <td>2.0</td>\n",
       "      <td>6604900.0</td>\n",
       "      <td>17990.0</td>\n",
       "      <td>...</td>\n",
       "      <td>20.25</td>\n",
       "      <td>31104.0</td>\n",
       "      <td>2592.0</td>\n",
       "      <td>216.0</td>\n",
       "      <td>18.0</td>\n",
       "      <td>331776.0</td>\n",
       "      <td>27648.0</td>\n",
       "      <td>2304.0</td>\n",
       "      <td>192.0</td>\n",
       "      <td>16.0</td>\n",
       "    </tr>\n",
       "    <tr>\n",
       "      <th>2</th>\n",
       "      <td>1.0</td>\n",
       "      <td>1960.0</td>\n",
       "      <td>7.0</td>\n",
       "      <td>4.0</td>\n",
       "      <td>4.0</td>\n",
       "      <td>3.00</td>\n",
       "      <td>50.0</td>\n",
       "      <td>1.0</td>\n",
       "      <td>3841600.0</td>\n",
       "      <td>13720.0</td>\n",
       "      <td>...</td>\n",
       "      <td>9.00</td>\n",
       "      <td>375000.0</td>\n",
       "      <td>7500.0</td>\n",
       "      <td>150.0</td>\n",
       "      <td>3.0</td>\n",
       "      <td>6250000.0</td>\n",
       "      <td>125000.0</td>\n",
       "      <td>2500.0</td>\n",
       "      <td>50.0</td>\n",
       "      <td>1.0</td>\n",
       "    </tr>\n",
       "    <tr>\n",
       "      <th>3</th>\n",
       "      <td>1.0</td>\n",
       "      <td>1680.0</td>\n",
       "      <td>8.0</td>\n",
       "      <td>2.0</td>\n",
       "      <td>3.0</td>\n",
       "      <td>2.00</td>\n",
       "      <td>28.0</td>\n",
       "      <td>1.0</td>\n",
       "      <td>2822400.0</td>\n",
       "      <td>13440.0</td>\n",
       "      <td>...</td>\n",
       "      <td>4.00</td>\n",
       "      <td>43904.0</td>\n",
       "      <td>1568.0</td>\n",
       "      <td>56.0</td>\n",
       "      <td>2.0</td>\n",
       "      <td>614656.0</td>\n",
       "      <td>21952.0</td>\n",
       "      <td>784.0</td>\n",
       "      <td>28.0</td>\n",
       "      <td>1.0</td>\n",
       "    </tr>\n",
       "    <tr>\n",
       "      <th>4</th>\n",
       "      <td>1.0</td>\n",
       "      <td>5420.0</td>\n",
       "      <td>11.0</td>\n",
       "      <td>2.0</td>\n",
       "      <td>4.0</td>\n",
       "      <td>4.50</td>\n",
       "      <td>14.0</td>\n",
       "      <td>1.0</td>\n",
       "      <td>29376400.0</td>\n",
       "      <td>59620.0</td>\n",
       "      <td>...</td>\n",
       "      <td>20.25</td>\n",
       "      <td>12348.0</td>\n",
       "      <td>882.0</td>\n",
       "      <td>63.0</td>\n",
       "      <td>4.5</td>\n",
       "      <td>38416.0</td>\n",
       "      <td>2744.0</td>\n",
       "      <td>196.0</td>\n",
       "      <td>14.0</td>\n",
       "      <td>1.0</td>\n",
       "    </tr>\n",
       "  </tbody>\n",
       "</table>\n",
       "<p>5 rows × 330 columns</p>\n",
       "</div>"
      ],
      "text/plain": [
       "   0       1     2    3    4     5     6    7           8        9    ...  \\\n",
       "0  1.0  1180.0   7.0  2.0  3.0  1.00  60.0  1.0   1392400.0   8260.0  ...   \n",
       "1  1.0  2570.0   7.0  2.0  3.0  2.25  24.0  2.0   6604900.0  17990.0  ...   \n",
       "2  1.0  1960.0   7.0  4.0  4.0  3.00  50.0  1.0   3841600.0  13720.0  ...   \n",
       "3  1.0  1680.0   8.0  2.0  3.0  2.00  28.0  1.0   2822400.0  13440.0  ...   \n",
       "4  1.0  5420.0  11.0  2.0  4.0  4.50  14.0  1.0  29376400.0  59620.0  ...   \n",
       "\n",
       "     320       321     322    323   324         325       326     327    328  \\\n",
       "0   1.00  216000.0  3600.0   60.0   1.0  12960000.0  216000.0  3600.0   60.0   \n",
       "1  20.25   31104.0  2592.0  216.0  18.0    331776.0   27648.0  2304.0  192.0   \n",
       "2   9.00  375000.0  7500.0  150.0   3.0   6250000.0  125000.0  2500.0   50.0   \n",
       "3   4.00   43904.0  1568.0   56.0   2.0    614656.0   21952.0   784.0   28.0   \n",
       "4  20.25   12348.0   882.0   63.0   4.5     38416.0    2744.0   196.0   14.0   \n",
       "\n",
       "    329  \n",
       "0   1.0  \n",
       "1  16.0  \n",
       "2   1.0  \n",
       "3   1.0  \n",
       "4   1.0  \n",
       "\n",
       "[5 rows x 330 columns]"
      ]
     },
     "execution_count": 306,
     "metadata": {},
     "output_type": "execute_result"
    }
   ],
   "source": [
    "poly_2 = PolynomialFeatures(4)\n",
    "\n",
    "X_poly = pd.DataFrame(\n",
    "            poly_2.fit_transform(df_pol)\n",
    "                      )\n",
    "\n",
    "y = df.price\n",
    "X_poly.head()"
   ]
  },
  {
   "cell_type": "code",
   "execution_count": 307,
   "metadata": {},
   "outputs": [
    {
     "data": {
      "text/plain": [
       "0.6516009238697116"
      ]
     },
     "execution_count": 307,
     "metadata": {},
     "output_type": "execute_result"
    }
   ],
   "source": [
    "X_train, X_test, y_train, y_test = train_test_split(X_poly, y,\n",
    "                                                    test_size=0.2,\n",
    "                                                    random_state=42)\n",
    "lr_poly = LinearRegression()\n",
    "\n",
    "# Always fit on the training set\n",
    "lr_poly.fit(X_train, y_train)\n",
    "\n",
    "lr_poly.score(X_train, y_train)"
   ]
  },
  {
   "cell_type": "code",
   "execution_count": 308,
   "metadata": {},
   "outputs": [
    {
     "data": {
      "text/plain": [
       "0.6257585223061348"
      ]
     },
     "execution_count": 308,
     "metadata": {},
     "output_type": "execute_result"
    }
   ],
   "source": [
    "lr_poly.score(X_test, y_test)"
   ]
  },
  {
   "cell_type": "code",
   "execution_count": 310,
   "metadata": {},
   "outputs": [],
   "source": [
    "def price_calculator(data=df):\n",
    "    sqft_living = int(input('How many SQFT is the house?'))\n",
    "    grade_value = int(input('What grade is the house? From 4-Low to 13-Mansion'))\n",
    "    bedrooms = int(input('How many bedrooms does the house have?'))\n",
    "    bathrooms = float(input('How many bathrooms does the house have?'))\n",
    "    floors = int(input('How many floors does the house have?'))\n",
    "    condition_num = int(input('What condition is the house in? 1-Fair to 4-Very Good'))\n",
    "    age = int(input('How many years passed after last renovation? If never renovated put age of the house. '))\n",
    "\n",
    "    y = data['price']\n",
    "    x = data[['sqft_living','grade_value','bedrooms','bathrooms','floors','condition_num','age']]\n",
    "    X = sm.add_constant(x)\n",
    "    model = sm.OLS(y,X).fit()\n",
    "    coef = model.params\n",
    "    price = coef['const'] + sqft_living*coef['sqft_living'] + grade_value*coef['grade_value'] + bedrooms*coef['bedrooms'] + bathrooms*coef['bathrooms'] + floors*coef['floors'] + condition_num*coef['condition_num'] + age*coef['age']\n",
    "    price = round(round(price/1000)*1000)\n",
    "    #print(f'For given specifications expected price range for a house would be USD {price-50000} - {price+50000}. ')\n",
    "    return price-50000, price+50000"
   ]
  },
  {
   "cell_type": "code",
   "execution_count": null,
   "metadata": {},
   "outputs": [],
   "source": [
    "price_calculator()"
   ]
  },
  {
   "cell_type": "code",
   "execution_count": 311,
   "metadata": {},
   "outputs": [],
   "source": [
    "def price_calculator_partial(sqft_living,grade_value,bedrooms,bathrooms,floors,condition_num,age,data=df):\n",
    "    y = data['price']\n",
    "    x = data[['sqft_living','grade_value','bedrooms','bathrooms','floors','condition_num','age']]\n",
    "    X = sm.add_constant(x)\n",
    "    model = sm.OLS(y,X).fit()\n",
    "    coef = model.params\n",
    "    price = coef['const'] + sqft_living*coef['sqft_living'] + grade_value*coef['grade_value'] + bedrooms*coef['bedrooms'] + bathrooms*coef['bathrooms'] + floors*coef['floors'] + condition_num*coef['condition_num'] + age*coef['age']\n",
    "    price = int(round(round(price/1000)*1000,2))\n",
    "    #print(f'For given specifications expected price range for a house would be USD {price-50000} - {price+50000}. ')\n",
    "    return price"
   ]
  },
  {
   "cell_type": "code",
   "execution_count": null,
   "metadata": {},
   "outputs": [],
   "source": [
    "price_calculator_partial(2500,6,3,2,1,3,10,data=df)"
   ]
  },
  {
   "cell_type": "code",
   "execution_count": 312,
   "metadata": {},
   "outputs": [],
   "source": [
    "def price_calculator_zipcode(zipcode, data=df):\n",
    "    sqft_living = int(input('How many SQFT is the house?'))\n",
    "    grade_value = int(input('What grade is the house? From 1-Fair to 7-Excellent'))+4\n",
    "    bedrooms = int(input('How many bedrooms does the house have?'))\n",
    "    bathrooms = float(input('How many bathrooms does the house have?'))\n",
    "    floors = int(input('How many floors does the house have?'))\n",
    "    condition_num = int(input('What condition is the house in? 1-Fair to 4-Very Good'))\n",
    "    age = int(input('How many years passed after last renovation? If never renovated put age of the house. '))   \n",
    "\n",
    "    data_zipcode = data[data['zipcode']==zipcode]\n",
    "    price_area = price_calculator_partial(sqft_living,grade_value,bedrooms,bathrooms,floors,condition_num,age,data)\n",
    "    price_zipcode = price_calculator_partial(sqft_living,grade_value,bedrooms,bathrooms,floors,condition_num,age,data_zipcode)\n",
    "    if price_zipcode > (730000/1.1):\n",
    "        print(f'This zipcode is too expensive for given specifications, expected price is {price_zipcode}')\n",
    "    else:\n",
    "        print(f'For given specifications expected price range for a house in {zipcode} zipcode would be  ${int(price_zipcode-price_zipcode*.1)} - {int(price_zipcode+price_zipcode*.1)}. ')\n",
    "        print(f'For given specifications expected price range for a house in King County would be ${int(price_area-price_area*.1)} - {int(price_area+price_area*.1)}. ')\n",
    "        if price_area < price_zipcode:\n",
    "            print(f'This zipcode is overpriced with average ${price_zipcode} compared to King County market  average of ${price_area}')\n",
    "        elif price_area > price_zipcode:\n",
    "            print(f'This zipcode is underpriced with average ${price_zipcode} compared to King County market  average of ${price_area}')\n",
    "        else:\n",
    "            print('This zipcode is similar with average ${price_zipcode} compared to King County market.')\n",
    "        return price_zipcode-price_zipcode*.1, price_zipcode+price_zipcode*.1"
   ]
  },
  {
   "cell_type": "code",
   "execution_count": null,
   "metadata": {},
   "outputs": [],
   "source": [
    "price_calculator_zipcode(98023)"
   ]
  },
  {
   "cell_type": "code",
   "execution_count": 313,
   "metadata": {},
   "outputs": [
    {
     "data": {
      "text/plain": [
       "70"
      ]
     },
     "execution_count": 313,
     "metadata": {},
     "output_type": "execute_result"
    }
   ],
   "source": [
    "zipcodes_list = list(set(df['zipcode']))\n",
    "len(zipcodes_list)"
   ]
  },
  {
   "cell_type": "code",
   "execution_count": 314,
   "metadata": {},
   "outputs": [],
   "source": [
    "def price_calculator_all_zipcodes(data=df):\n",
    "    sqft_living = int(input('How many SQFT is the house?'))\n",
    "    grade_value = int(input('What grade is the house? From 1-Fair to 7-Excellent'))+4\n",
    "    bedrooms = int(input('How many bedrooms does the house have?'))\n",
    "    bathrooms = float(input('How many bathrooms does the house have?'))\n",
    "    floors = int(input('How many floors does the house have?'))\n",
    "    condition_num = int(input('What condition is the house in? 1-Fair to 4-Very Good'))\n",
    "    age = int(input('How many years passed after last renovation? If never renovated put age of the house. '))\n",
    "    zipcodes_list = list(set(data['zipcode']))\n",
    "    zc_price_expectations = {}\n",
    "    for zc in zipcodes_list:\n",
    "        zc_price_expectations[zc] = price_calculator_partial(sqft_living,grade_value,bedrooms,bathrooms,floors,condition_num,age,data_zipcode)\n",
    "    return zc_price_expectations"
   ]
  },
  {
   "cell_type": "code",
   "execution_count": 315,
   "metadata": {},
   "outputs": [
    {
     "ename": "NameError",
     "evalue": "name 'data_zipcode' is not defined",
     "output_type": "error",
     "traceback": [
      "\u001b[1;31m---------------------------------------------------------------------------\u001b[0m",
      "\u001b[1;31mNameError\u001b[0m                                 Traceback (most recent call last)",
      "\u001b[1;32m~\\AppData\\Local\\Temp/ipykernel_34128/1712129893.py\u001b[0m in \u001b[0;36m<module>\u001b[1;34m\u001b[0m\n\u001b[1;32m----> 1\u001b[1;33m \u001b[0mprice_calculator_all_zipcodes\u001b[0m\u001b[1;33m(\u001b[0m\u001b[0mdata\u001b[0m\u001b[1;33m=\u001b[0m\u001b[0mdf\u001b[0m\u001b[1;33m)\u001b[0m\u001b[1;33m\u001b[0m\u001b[1;33m\u001b[0m\u001b[0m\n\u001b[0m",
      "\u001b[1;32m~\\AppData\\Local\\Temp/ipykernel_34128/142257608.py\u001b[0m in \u001b[0;36mprice_calculator_all_zipcodes\u001b[1;34m(data)\u001b[0m\n\u001b[0;32m     10\u001b[0m     \u001b[0mzc_price_expectations\u001b[0m \u001b[1;33m=\u001b[0m \u001b[1;33m{\u001b[0m\u001b[1;33m}\u001b[0m\u001b[1;33m\u001b[0m\u001b[1;33m\u001b[0m\u001b[0m\n\u001b[0;32m     11\u001b[0m     \u001b[1;32mfor\u001b[0m \u001b[0mzc\u001b[0m \u001b[1;32min\u001b[0m \u001b[0mzipcodes_list\u001b[0m\u001b[1;33m:\u001b[0m\u001b[1;33m\u001b[0m\u001b[1;33m\u001b[0m\u001b[0m\n\u001b[1;32m---> 12\u001b[1;33m         \u001b[0mzc_price_expectations\u001b[0m\u001b[1;33m[\u001b[0m\u001b[0mzc\u001b[0m\u001b[1;33m]\u001b[0m \u001b[1;33m=\u001b[0m \u001b[0mprice_calculator_partial\u001b[0m\u001b[1;33m(\u001b[0m\u001b[0msqft_living\u001b[0m\u001b[1;33m,\u001b[0m\u001b[0mgrade_value\u001b[0m\u001b[1;33m,\u001b[0m\u001b[0mbedrooms\u001b[0m\u001b[1;33m,\u001b[0m\u001b[0mbathrooms\u001b[0m\u001b[1;33m,\u001b[0m\u001b[0mfloors\u001b[0m\u001b[1;33m,\u001b[0m\u001b[0mcondition_num\u001b[0m\u001b[1;33m,\u001b[0m\u001b[0mage\u001b[0m\u001b[1;33m,\u001b[0m\u001b[0mdata_zipcode\u001b[0m\u001b[1;33m)\u001b[0m\u001b[1;33m\u001b[0m\u001b[1;33m\u001b[0m\u001b[0m\n\u001b[0m\u001b[0;32m     13\u001b[0m     \u001b[1;32mreturn\u001b[0m \u001b[0mzc_price_expectations\u001b[0m\u001b[1;33m\u001b[0m\u001b[1;33m\u001b[0m\u001b[0m\n",
      "\u001b[1;31mNameError\u001b[0m: name 'data_zipcode' is not defined"
     ]
    }
   ],
   "source": [
    "price_calculator_all_zipcodes(data=df)\n"
   ]
  },
  {
   "cell_type": "code",
   "execution_count": null,
   "metadata": {},
   "outputs": [],
   "source": []
  }
 ],
 "metadata": {
  "interpreter": {
   "hash": "84ac4771d5764d64b27213ab6683f1ab5061e80733e0bd642ee92a0b0c9907f0"
  },
  "kernelspec": {
   "display_name": "Python 3",
   "language": "python",
   "name": "python3"
  },
  "language_info": {
   "codemirror_mode": {
    "name": "ipython",
    "version": 3
   },
   "file_extension": ".py",
   "mimetype": "text/x-python",
   "name": "python",
   "nbconvert_exporter": "python",
   "pygments_lexer": "ipython3",
   "version": "3.8.5"
  }
 },
 "nbformat": 4,
 "nbformat_minor": 2
}
